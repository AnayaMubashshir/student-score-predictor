{
 "cells": [
  {
   "cell_type": "markdown",
   "id": "8319ebb9",
   "metadata": {},
   "source": [
    "# importing libraries"
   ]
  },
  {
   "cell_type": "code",
   "execution_count": 1,
   "id": "151efa53",
   "metadata": {},
   "outputs": [],
   "source": [
    "import pandas as pd\n",
    "import numpy as np\n",
    "import matplotlib.pyplot as plt"
   ]
  },
  {
   "cell_type": "markdown",
   "id": "a6f78a75",
   "metadata": {},
   "source": [
    "# importing dataset"
   ]
  },
  {
   "cell_type": "code",
   "execution_count": 2,
   "id": "adef73b0",
   "metadata": {},
   "outputs": [
    {
     "data": {
      "text/html": [
       "<div>\n",
       "<style scoped>\n",
       "    .dataframe tbody tr th:only-of-type {\n",
       "        vertical-align: middle;\n",
       "    }\n",
       "\n",
       "    .dataframe tbody tr th {\n",
       "        vertical-align: top;\n",
       "    }\n",
       "\n",
       "    .dataframe thead th {\n",
       "        text-align: right;\n",
       "    }\n",
       "</style>\n",
       "<table border=\"1\" class=\"dataframe\">\n",
       "  <thead>\n",
       "    <tr style=\"text-align: right;\">\n",
       "      <th></th>\n",
       "      <th>Hours</th>\n",
       "      <th>Scores</th>\n",
       "    </tr>\n",
       "  </thead>\n",
       "  <tbody>\n",
       "    <tr>\n",
       "      <th>0</th>\n",
       "      <td>2.5</td>\n",
       "      <td>21</td>\n",
       "    </tr>\n",
       "    <tr>\n",
       "      <th>1</th>\n",
       "      <td>5.1</td>\n",
       "      <td>47</td>\n",
       "    </tr>\n",
       "    <tr>\n",
       "      <th>2</th>\n",
       "      <td>3.2</td>\n",
       "      <td>27</td>\n",
       "    </tr>\n",
       "    <tr>\n",
       "      <th>3</th>\n",
       "      <td>8.5</td>\n",
       "      <td>75</td>\n",
       "    </tr>\n",
       "    <tr>\n",
       "      <th>4</th>\n",
       "      <td>3.5</td>\n",
       "      <td>30</td>\n",
       "    </tr>\n",
       "  </tbody>\n",
       "</table>\n",
       "</div>"
      ],
      "text/plain": [
       "   Hours  Scores\n",
       "0    2.5      21\n",
       "1    5.1      47\n",
       "2    3.2      27\n",
       "3    8.5      75\n",
       "4    3.5      30"
      ]
     },
     "execution_count": 2,
     "metadata": {},
     "output_type": "execute_result"
    }
   ],
   "source": [
    "url=\"https://raw.githubusercontent.com/AdiPersonalWorks/Random/master/student_scores%20-%20student_scores.csv\"\n",
    "data=pd.read_csv(url)\n",
    "data.head()"
   ]
  },
  {
   "cell_type": "code",
   "execution_count": 3,
   "id": "c89a3855",
   "metadata": {},
   "outputs": [
    {
     "data": {
      "text/plain": [
       "(25, 2)"
      ]
     },
     "execution_count": 3,
     "metadata": {},
     "output_type": "execute_result"
    }
   ],
   "source": [
    "data.shape    #returns no of rows and columns"
   ]
  },
  {
   "cell_type": "markdown",
   "id": "3597bbcc",
   "metadata": {},
   "source": [
    "# visualization of dataset"
   ]
  },
  {
   "cell_type": "code",
   "execution_count": 4,
   "id": "21460592",
   "metadata": {},
   "outputs": [
    {
     "data": {
      "image/png": "[encoded data removed]",
      "text/plain": [
       "<Figure size 432x288 with 1 Axes>"
      ]
     },
     "metadata": {
      "needs_background": "light"
     },
     "output_type": "display_data"
    }
   ],
   "source": [
    "plt.scatter(x=data['Hours'],y=data['Scores'],color='blue')\n",
    "plt.xlabel(\"Hours\")\n",
    "plt.ylabel(\"Scores\")\n",
    "plt.title(\"Student's scores vs hours studied\")\n",
    "plt.show()"
   ]
  },
  {
   "cell_type": "code",
   "execution_count": 5,
   "id": "3f9bf7cf",
   "metadata": {},
   "outputs": [
    {
     "name": "stdout",
     "output_type": "stream",
     "text": [
      "<class 'pandas.core.frame.DataFrame'>\n",
      "RangeIndex: 25 entries, 0 to 24\n",
      "Data columns (total 2 columns):\n",
      " #   Column  Non-Null Count  Dtype  \n",
      "---  ------  --------------  -----  \n",
      " 0   Hours   25 non-null     float64\n",
      " 1   Scores  25 non-null     int64  \n",
      "dtypes: float64(1), int64(1)\n",
      "memory usage: 528.0 bytes\n"
     ]
    }
   ],
   "source": [
    "data.info()                         #since all values are not null that means thier is no missing values"
   ]
  },
  {
   "cell_type": "code",
   "execution_count": 6,
   "id": "23f34b25",
   "metadata": {},
   "outputs": [],
   "source": [
    "q1=data['Scores'].quantile(.25)"
   ]
  },
  {
   "cell_type": "code",
   "execution_count": 7,
   "id": "f18b9197",
   "metadata": {},
   "outputs": [],
   "source": [
    "q3=data['Scores'].quantile(.75)"
   ]
  },
  {
   "cell_type": "code",
   "execution_count": 8,
   "id": "40314fba",
   "metadata": {},
   "outputs": [],
   "source": [
    "iqr=q3-q1   #inter quaetile range(diff bw 75% & 25%)"
   ]
  },
  {
   "cell_type": "code",
   "execution_count": 9,
   "id": "89f32b13",
   "metadata": {},
   "outputs": [
    {
     "data": {
      "text/plain": [
       "45.0"
      ]
     },
     "execution_count": 9,
     "metadata": {},
     "output_type": "execute_result"
    }
   ],
   "source": [
    "iqr"
   ]
  },
  {
   "cell_type": "code",
   "execution_count": 10,
   "id": "0e4a09fd",
   "metadata": {},
   "outputs": [],
   "source": [
    "l=q1-1.5*iqr\n",
    "u=q3+1.5*iqr"
   ]
  },
  {
   "cell_type": "code",
   "execution_count": 11,
   "id": "0b2c0bfb",
   "metadata": {},
   "outputs": [
    {
     "data": {
      "text/plain": [
       "(-37.5, 142.5)"
      ]
     },
     "execution_count": 11,
     "metadata": {},
     "output_type": "execute_result"
    }
   ],
   "source": [
    "l,u"
   ]
  },
  {
   "cell_type": "markdown",
   "id": "03e484e8",
   "metadata": {},
   "source": [
    "# checking for outliers"
   ]
  },
  {
   "cell_type": "code",
   "execution_count": 12,
   "id": "193af720",
   "metadata": {},
   "outputs": [
    {
     "data": {
      "text/plain": [
       "17"
      ]
     },
     "execution_count": 12,
     "metadata": {},
     "output_type": "execute_result"
    }
   ],
   "source": [
    "data['Scores'].min()  #min value is greater then upper limit therefore no outlier"
   ]
  },
  {
   "cell_type": "code",
   "execution_count": 13,
   "id": "52a5f651",
   "metadata": {},
   "outputs": [
    {
     "data": {
      "text/plain": [
       "95"
      ]
     },
     "execution_count": 13,
     "metadata": {},
     "output_type": "execute_result"
    }
   ],
   "source": [
    "data['Scores'].max() #max value is less then upper limit therefore no outlier"
   ]
  },
  {
   "cell_type": "code",
   "execution_count": 14,
   "id": "16d64ab6",
   "metadata": {},
   "outputs": [],
   "source": [
    "from sklearn.model_selection import train_test_split #it is used to split data"
   ]
  },
  {
   "cell_type": "code",
   "execution_count": 15,
   "id": "f221e601",
   "metadata": {},
   "outputs": [],
   "source": [
    "X=data.drop(columns=['Scores'])\n",
    "Y=data['Scores']\n"
   ]
  },
  {
   "cell_type": "code",
   "execution_count": 16,
   "id": "cf781cf0",
   "metadata": {},
   "outputs": [],
   "source": [
    "X_train,X_test,Y_train,Y_test=train_test_split(X,Y,test_size=0.3)"
   ]
  },
  {
   "cell_type": "code",
   "execution_count": 17,
   "id": "4c28d5c6",
   "metadata": {},
   "outputs": [
    {
     "data": {
      "text/plain": [
       "((17, 1), (8, 1), (17,), (8,))"
      ]
     },
     "execution_count": 17,
     "metadata": {},
     "output_type": "execute_result"
    }
   ],
   "source": [
    "X_train.shape,X_test.shape,Y_train.shape,Y_test.shape"
   ]
  },
  {
   "cell_type": "markdown",
   "id": "50d6eabb",
   "metadata": {},
   "source": [
    "# using linear regression algorithm on test & train set"
   ]
  },
  {
   "cell_type": "code",
   "execution_count": 18,
   "id": "daff2e97",
   "metadata": {},
   "outputs": [
    {
     "data": {
      "text/plain": [
       "LinearRegression(normalize=True)"
      ]
     },
     "execution_count": 18,
     "metadata": {},
     "output_type": "execute_result"
    }
   ],
   "source": [
    "from sklearn.linear_model import LinearRegression  #IMPORTING linear regression class from linear_model of sklearn lib.\n",
    "lr=LinearRegression(normalize=True)  #normalize the data to bring all variable to same range\n",
    "lr.fit(X_train,Y_train)    #to find best fit parameter(slope,intercept) to model the data"
   ]
  },
  {
   "cell_type": "code",
   "execution_count": 19,
   "id": "a5c8b855",
   "metadata": {},
   "outputs": [
    {
     "data": {
      "text/plain": [
       "[<matplotlib.lines.Line2D at 0x1c25d3e8bb0>]"
      ]
     },
     "execution_count": 19,
     "metadata": {},
     "output_type": "execute_result"
    },
    {
     "data": {
      "image/png": "[encoded data removed]",
      "text/plain": [
       "<Figure size 432x288 with 1 Axes>"
      ]
     },
     "metadata": {
      "needs_background": "light"
     },
     "output_type": "display_data"
    }
   ],
   "source": [
    "line=lr.coef_*X + lr.intercept_\n",
    "plt.scatter(X,Y)\n",
    "plt.plot(X,line,color='green')\n"
   ]
  },
  {
   "cell_type": "code",
   "execution_count": 20,
   "id": "57edc0cb",
   "metadata": {},
   "outputs": [],
   "source": [
    "pred=lr.predict(X_test)"
   ]
  },
  {
   "cell_type": "code",
   "execution_count": 21,
   "id": "ea930ec4",
   "metadata": {},
   "outputs": [],
   "source": [
    "df=pd.DataFrame({'Actual':Y_test,'Prediction':pred})"
   ]
  },
  {
   "cell_type": "markdown",
   "id": "a62dcf2c",
   "metadata": {},
   "source": [
    "# evaluation metrics"
   ]
  },
  {
   "cell_type": "markdown",
   "id": "69c19091",
   "metadata": {},
   "source": [
    "checking whether simple mean prediction model is better than linear regression model"
   ]
  },
  {
   "cell_type": "code",
   "execution_count": 22,
   "id": "540dff43",
   "metadata": {},
   "outputs": [
    {
     "data": {
      "text/plain": [
       "4.812819328187851"
      ]
     },
     "execution_count": 22,
     "metadata": {},
     "output_type": "execute_result"
    }
   ],
   "source": [
    "from sklearn.metrics import mean_absolute_error\n",
    "mae=mean_absolute_error(pred,Y_test)\n",
    "mae"
   ]
  },
  {
   "cell_type": "code",
   "execution_count": 23,
   "id": "468312b9",
   "metadata": {},
   "outputs": [],
   "source": [
    "data['mean_score']=data['Scores'].mean()"
   ]
  },
  {
   "cell_type": "code",
   "execution_count": 24,
   "id": "c07b6d9a",
   "metadata": {},
   "outputs": [
    {
     "data": {
      "text/plain": [
       "22.4192"
      ]
     },
     "execution_count": 24,
     "metadata": {},
     "output_type": "execute_result"
    }
   ],
   "source": [
    "y=data['Scores']\n",
    "y_mean=data['mean_score']\n",
    "y_mean_mae=mean_absolute_error(y_mean,y)\n",
    "y_mean_mae"
   ]
  },
  {
   "cell_type": "markdown",
   "id": "01266a78",
   "metadata": {},
   "source": [
    "# now checking the score of student when students studies for  9.25 hrs"
   ]
  },
  {
   "cell_type": "code",
   "execution_count": 25,
   "id": "d50633e8",
   "metadata": {},
   "outputs": [
    {
     "name": "stdout",
     "output_type": "stream",
     "text": [
      "Enter no of hours=9.25\n",
      "No of Hours=[[9.25]]\n",
      "Student's Score=91.35311582780736\n"
     ]
    }
   ],
   "source": [
    "n=float(input(\"Enter no of hours=\"))\n",
    "test_hours=[[n]]\n",
    "prediction=lr.predict(test_hours)\n",
    "print(\"No of Hours={}\".format(test_hours))\n",
    "print(\"Student's Score={}\".format(prediction[0]))"
   ]
  }
 ],
 "metadata": {
  "kernelspec": {
   "display_name": "Python 3",
   "language": "python",
   "name": "python3"
  },
  "language_info": {
   "codemirror_mode": {
    "name": "ipython",
    "version": 3
   },
   "file_extension": ".py",
   "mimetype": "text/x-python",
   "name": "python",
   "nbconvert_exporter": "python",
   "pygments_lexer": "ipython3",
   "version": "3.8.8"
  }
 },
 "nbformat": 4,
 "nbformat_minor": 5
}
